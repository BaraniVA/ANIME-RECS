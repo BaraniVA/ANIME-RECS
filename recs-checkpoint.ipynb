{
 "cells": [
  {
   "cell_type": "code",
   "execution_count": 1,
   "id": "a037d025",
   "metadata": {},
   "outputs": [],
   "source": [
    "import pandas as pd\n",
    "from sklearn.metrics.pairwise import cosine_similarity\n",
    "from sklearn.preprocessing import OneHotEncoder"
   ]
  },
  {
   "cell_type": "code",
   "execution_count": 2,
   "id": "affc7dac",
   "metadata": {},
   "outputs": [],
   "source": [
    "# loading data set\n",
    "data = pd.read_csv('C:/Users/User/.ipynb_checkpoints/anime_with_synopsis.csv')"
   ]
  },
  {
   "cell_type": "code",
   "execution_count": 3,
   "id": "2030f39d",
   "metadata": {},
   "outputs": [],
   "source": [
    "data['Score'].replace(\"Unknown\", 0.0, inplace=True)"
   ]
  },
  {
   "cell_type": "code",
   "execution_count": 4,
   "id": "5a2a459c",
   "metadata": {},
   "outputs": [],
   "source": [
    "# Convert the score column to float\n",
    "data[\"Score\"] = data[\"Score\"].astype(float)"
   ]
  },
  {
   "cell_type": "code",
   "execution_count": 5,
   "id": "85a5442e",
   "metadata": {},
   "outputs": [],
   "source": [
    "# Save the changes back to the csv file\n",
    "data.to_csv(\"C:/Users/User/.ipynb_checkpoints/anime_with_synopsis_updated.csv\", index=False)"
   ]
  },
  {
   "cell_type": "code",
   "execution_count": 6,
   "id": "dbf366ea",
   "metadata": {
    "collapsed": true
   },
   "outputs": [
    {
     "name": "stdout",
     "output_type": "stream",
     "text": [
      "       MAL_ID                             Name  Score  \\\n",
      "0           1                     Cowboy Bebop   8.78   \n",
      "1           5  Cowboy Bebop: Tengoku no Tobira   8.39   \n",
      "2           6                           Trigun   8.24   \n",
      "3           7               Witch Hunter Robin   7.27   \n",
      "4           8                   Bouken Ou Beet   6.98   \n",
      "...       ...                              ...    ...   \n",
      "16209   48481  Daomu Biji Zhi Qinling Shen Shu   0.00   \n",
      "16210   48483                     Mieruko-chan   0.00   \n",
      "16211   48488  Higurashi no Naku Koro ni Sotsu   0.00   \n",
      "16212   48491      Yama no Susume: Next Summit   0.00   \n",
      "16213   48492                    Scarlet Nexus   0.00   \n",
      "\n",
      "                                                  Genres  \\\n",
      "0        Action, Adventure, Comedy, Drama, Sci-Fi, Space   \n",
      "1                  Action, Drama, Mystery, Sci-Fi, Space   \n",
      "2      Action, Sci-Fi, Adventure, Comedy, Drama, Shounen   \n",
      "3      Action, Mystery, Police, Supernatural, Drama, ...   \n",
      "4              Adventure, Fantasy, Shounen, Supernatural   \n",
      "...                                                  ...   \n",
      "16209                   Adventure, Mystery, Supernatural   \n",
      "16210                       Comedy, Horror, Supernatural   \n",
      "16211  Mystery, Dementia, Horror, Psychological, Supe...   \n",
      "16212                   Adventure, Slice of Life, Comedy   \n",
      "16213                                    Action, Fantasy   \n",
      "\n",
      "                                               sypnopsis  \n",
      "0      In the year 2071, humanity has colonized sever...  \n",
      "1      other day, another bounty—such is the life of ...  \n",
      "2      Vash the Stampede is the man with a $$60,000,0...  \n",
      "3      ches are individuals with special powers like ...  \n",
      "4      It is the dark century and the people are suff...  \n",
      "...                                                  ...  \n",
      "16209  No synopsis information has been added to this...  \n",
      "16210  ko is a typical high school student whose life...  \n",
      "16211          Sequel to Higurashi no Naku Koro ni Gou .  \n",
      "16212                          New Yama no Susume anime.  \n",
      "16213  Solar calendar year 2020: grotesque organisms ...  \n",
      "\n",
      "[16214 rows x 5 columns]\n"
     ]
    }
   ],
   "source": [
    "# display the data\n",
    "print(data)"
   ]
  },
  {
   "cell_type": "code",
   "execution_count": 7,
   "id": "5cc8c25e",
   "metadata": {},
   "outputs": [],
   "source": [
    "# Save the updated dataframe back to the csv file\n",
    "data.to_csv(\"C:/Users/User/.ipynb_checkpoints/anime_with_synopsis_updated.csv\", index=False)"
   ]
  },
  {
   "cell_type": "code",
   "execution_count": 8,
   "id": "f9685ef8",
   "metadata": {},
   "outputs": [],
   "source": [
    "# Preprocess the data\n",
    "data = data.fillna(0)\n",
    "encoder = OneHotEncoder(handle_unknown='ignore')\n",
    "genre_encoded = encoder.fit_transform(data[['Genres']])"
   ]
  },
  {
   "cell_type": "code",
   "execution_count": 9,
   "id": "3b7089d5",
   "metadata": {},
   "outputs": [],
   "source": [
    "# Calculate the similarity score\n",
    "similarity_score = cosine_similarity(genre_encoded)"
   ]
  },
  {
   "cell_type": "code",
   "execution_count": 10,
   "id": "6c9c9fd3",
   "metadata": {},
   "outputs": [],
   "source": [
    "# Get the top N recommendations\n",
    "def recommend(anime_id,N):\n",
    "    scores = similarity_score[anime_id]\n",
    "    top_anime = scores.argsort()[-N:]\n",
    "    return data[\"Name\"].iloc[top_anime]"
   ]
  },
  {
   "cell_type": "code",
   "execution_count": 11,
   "id": "1fd36a1c",
   "metadata": {
    "collapsed": true
   },
   "outputs": [
    {
     "name": "stdout",
     "output_type": "stream",
     "text": [
      "5405                            Denshinbashira no Okaasan\n",
      "5406                               Shinryaku!? Ika Musume\n",
      "5407                               Natsume Yuujinchou San\n",
      "5408     Sono Hanabira ni Kuchizuke wo: Reo x Mai Diaries\n",
      "5409                                     Momo e no Tegami\n",
      "5410    .hack//Quantum: Sore ike! Bokura no Chimuchimu...\n",
      "5411                 Kuragehime: Soreike! Amars Tankentai\n",
      "5398                                    Jewelpet Sunshine\n",
      "3044                      Cowboy Bebop: Yose Atsume Blues\n",
      "0                                            Cowboy Bebop\n",
      "Name: Name, dtype: object\n"
     ]
    }
   ],
   "source": [
    "# Recommend the top anime titles for the anime with ID 0\n",
    "print(recommend(anime_id ,N ))"
   ]
  }
 ],
 "metadata": {
  "kernelspec": {
   "display_name": "Python 3 (ipykernel)",
   "language": "python",
   "name": "python3"
  },
  "language_info": {
   "codemirror_mode": {
    "name": "ipython",
    "version": 3
   },
   "file_extension": ".py",
   "mimetype": "text/x-python",
   "name": "python",
   "nbconvert_exporter": "python",
   "pygments_lexer": "ipython3",
   "version": "3.9.13"
  }
 },
 "nbformat": 4,
 "nbformat_minor": 5
}
